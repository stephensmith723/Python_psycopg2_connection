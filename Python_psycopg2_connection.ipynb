{
 "cells": [
  {
   "cell_type": "markdown",
   "metadata": {},
   "source": [
    "Import and Class Statement"
   ]
  },
  {
   "cell_type": "code",
   "execution_count": null,
   "metadata": {
    "collapsed": true
   },
   "outputs": [],
   "source": [
    "import os\n",
    "import sys\n",
    "\n",
    "import datetime\n",
    "import pandas as pd\n",
    "import numpy as np\n",
    "import json\n",
    "import psycopg2\n",
    "from psycopg2.extensions import AsIs\n",
    "\n",
    "pd.options.display.max_columns = None\n",
    "\n",
    "%reload_ext autoreload\n",
    "%autoreload 2\n",
    "\n",
    "class DB(object):\n",
    "    def __init__(self,path):\n",
    "        self.credsPath = path\n",
    "        self.connect()\n",
    "        \n",
    "    def connect(self):\n",
    "        conn_info = self.importCredentials(self.credsPath)\n",
    "        self.conn = psycopg2.connect(**conn_info)\n",
    "    \n",
    "    def importCredentials(self,path):\n",
    "        with open(path,'r') as fh:\n",
    "            return json.loads(fh.read())\n",
    "    \n",
    "    def sql(self,sql,params=None):\n",
    "        if params != None:\n",
    "            for k,v in params.items():\n",
    "                params[k] = AsIs(v)\n",
    "        \n",
    "        if self.conn.closed == 1:\n",
    "            self.reset()\n",
    "            \n",
    "        with self.conn as conn:\n",
    "            if sql.strip()[:6].upper() == \"SELECT\":\n",
    "                df = pd.read_sql(sql,conn,params=params)\n",
    "                return df\n",
    "            else:\n",
    "                with conn.cursor() as cursor:\n",
    "                    cursor.execute(sql,params)\n",
    "                    if cursor.description:\n",
    "                        return cursor.fetchall()\n",
    "                    \n",
    "    def testSQL(self,sql,params=None):\n",
    "        if params != None:\n",
    "            for k,v in params.items():\n",
    "                params[k] = AsIs(v)\n",
    "\n",
    "        with self.conn as conn:\n",
    "            with conn.cursor() as curs:\n",
    "                return curs.mogrify(sql,params).decode('utf-8')                    \n",
    "\n",
    "    def reset(self):\n",
    "        self.conn.close()\n",
    "        self.connect()"
   ]
  },
  {
   "cell_type": "markdown",
   "metadata": {},
   "source": [
    "Need to enter server route or file and password to connect"
   ]
  },
  {
   "cell_type": "code",
   "execution_count": null,
   "metadata": {
    "collapsed": true
   },
   "outputs": [],
   "source": [
    "# Connect to the Database\n",
    "db = DB(FILEPATH'.txt')"
   ]
  },
  {
   "cell_type": "code",
   "execution_count": null,
   "metadata": {
    "collapsed": true
   },
   "outputs": [],
   "source": [
    "sql = \"\"\"\n",
    "    SELECT *\n",
    "    FROM work.%(table)s\n",
    "    LIMIT 5\n",
    "\"\"\"\n",
    "params = {}"
   ]
  },
  {
   "cell_type": "code",
   "execution_count": null,
   "metadata": {
    "collapsed": true
   },
   "outputs": [],
   "source": [
    "for t in [ENTER TABLE NAME'', '']:\n",
    "    display(db.sql(sql,params={'table': t}))"
   ]
  }
 ],
 "metadata": {
  "kernelspec": {
   "display_name": "Python 3",
   "language": "python",
   "name": "python3"
  },
  "language_info": {
   "codemirror_mode": {
    "name": "ipython",
    "version": 3
   },
   "file_extension": ".py",
   "mimetype": "text/x-python",
   "name": "python",
   "nbconvert_exporter": "python",
   "pygments_lexer": "ipython3",
   "version": "3.6.2"
  }
 },
 "nbformat": 4,
 "nbformat_minor": 2
}
